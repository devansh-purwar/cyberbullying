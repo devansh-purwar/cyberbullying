{
 "cells": [
  {
   "cell_type": "code",
   "execution_count": 1,
   "id": "b068286a",
   "metadata": {},
   "outputs": [
    {
     "data": {
      "text/html": [
       "<div>\n",
       "<style scoped>\n",
       "    .dataframe tbody tr th:only-of-type {\n",
       "        vertical-align: middle;\n",
       "    }\n",
       "\n",
       "    .dataframe tbody tr th {\n",
       "        vertical-align: top;\n",
       "    }\n",
       "\n",
       "    .dataframe thead th {\n",
       "        text-align: right;\n",
       "    }\n",
       "</style>\n",
       "<table border=\"1\" class=\"dataframe\">\n",
       "  <thead>\n",
       "    <tr style=\"text-align: right;\">\n",
       "      <th></th>\n",
       "      <th>Comment</th>\n",
       "      <th>label</th>\n",
       "    </tr>\n",
       "  </thead>\n",
       "  <tbody>\n",
       "    <tr>\n",
       "      <th>0</th>\n",
       "      <td>@switchfoot http://twitpic.com/2y1zl - Awww, t...</td>\n",
       "      <td>1</td>\n",
       "    </tr>\n",
       "    <tr>\n",
       "      <th>1</th>\n",
       "      <td>is upset that he can't update his Facebook by ...</td>\n",
       "      <td>1</td>\n",
       "    </tr>\n",
       "    <tr>\n",
       "      <th>2</th>\n",
       "      <td>@Kenichan I dived many times for the ball. Man...</td>\n",
       "      <td>1</td>\n",
       "    </tr>\n",
       "    <tr>\n",
       "      <th>3</th>\n",
       "      <td>my whole body feels itchy and like its on fire</td>\n",
       "      <td>0</td>\n",
       "    </tr>\n",
       "    <tr>\n",
       "      <th>4</th>\n",
       "      <td>@nationwideclass no, it's not behaving at all....</td>\n",
       "      <td>1</td>\n",
       "    </tr>\n",
       "  </tbody>\n",
       "</table>\n",
       "</div>"
      ],
      "text/plain": [
       "                                             Comment label\n",
       "0  @switchfoot http://twitpic.com/2y1zl - Awww, t...     1\n",
       "1  is upset that he can't update his Facebook by ...     1\n",
       "2  @Kenichan I dived many times for the ball. Man...     1\n",
       "3     my whole body feels itchy and like its on fire     0\n",
       "4  @nationwideclass no, it's not behaving at all....     1"
      ]
     },
     "execution_count": 1,
     "metadata": {},
     "output_type": "execute_result"
    }
   ],
   "source": [
    "import pandas as pd\n",
    "import matplotlib.pyplot as plt\n",
    "url = 'https://raw.githubusercontent.com/chiragmittal8011/Car-Data-Analysis-Code/main/merged%20file%20-%20merged%20file.csv'\n",
    "df = pd.read_csv(url)\n",
    "df.head()"
   ]
  },
  {
   "cell_type": "code",
   "execution_count": 2,
   "id": "63f81e71",
   "metadata": {},
   "outputs": [
    {
     "data": {
      "text/plain": [
       "(96806, 2)"
      ]
     },
     "execution_count": 2,
     "metadata": {},
     "output_type": "execute_result"
    }
   ],
   "source": [
    "df.shape"
   ]
  },
  {
   "cell_type": "code",
   "execution_count": 3,
   "id": "3555550e",
   "metadata": {},
   "outputs": [],
   "source": [
    "df=df[pd.to_numeric(df['label'], errors='coerce').notnull()]"
   ]
  },
  {
   "cell_type": "code",
   "execution_count": 4,
   "id": "953ee37c",
   "metadata": {},
   "outputs": [],
   "source": [
    "df = df.drop_duplicates()"
   ]
  },
  {
   "cell_type": "code",
   "execution_count": 5,
   "id": "259f7d44",
   "metadata": {},
   "outputs": [
    {
     "data": {
      "text/plain": [
       "(86169, 2)"
      ]
     },
     "execution_count": 5,
     "metadata": {},
     "output_type": "execute_result"
    }
   ],
   "source": [
    "df.shape"
   ]
  },
  {
   "cell_type": "code",
   "execution_count": 6,
   "id": "05fb607e",
   "metadata": {},
   "outputs": [],
   "source": [
    "df = df.dropna(axis=0)"
   ]
  },
  {
   "cell_type": "code",
   "execution_count": 7,
   "id": "183899ec",
   "metadata": {},
   "outputs": [
    {
     "data": {
      "text/plain": [
       "(86169, 2)"
      ]
     },
     "execution_count": 7,
     "metadata": {},
     "output_type": "execute_result"
    }
   ],
   "source": [
    "df.shape"
   ]
  },
  {
   "cell_type": "code",
   "execution_count": 8,
   "id": "38d05ee6",
   "metadata": {},
   "outputs": [],
   "source": [
    "import string\n",
    "from nltk import pos_tag\n",
    "def tokenize_remove_punctuation(text):\n",
    "  clean_text = []\n",
    "  text = text.split(\" \")\n",
    "  for word in text:\n",
    "    word = list(word)\n",
    "    new_word = []\n",
    "    for c in word:\n",
    "      if c not in string.punctuation:\n",
    "        new_word.append(c)\n",
    "      word = \"\".join(new_word)\n",
    "    clean_text.append(word)\n",
    "  return clean_text\n"
   ]
  },
  {
   "cell_type": "code",
   "execution_count": 9,
   "id": "a6ce03ca",
   "metadata": {},
   "outputs": [
    {
     "data": {
      "text/plain": [
       "['hello',\n",
       " 'anyone',\n",
       " 'reading',\n",
       " 'wt',\n",
       " 'is',\n",
       " 'the',\n",
       " 'name',\n",
       " 'of',\n",
       " 'am',\n",
       " 'in',\n",
       " 'that',\n",
       " 'this',\n",
       " [],\n",
       " '']"
      ]
     },
     "execution_count": 9,
     "metadata": {},
     "output_type": "execute_result"
    }
   ],
   "source": [
    "trial_text = tokenize_remove_punctuation(\"hello @anyone reading? wt is the name of am in that this  ??!@\")\n",
    "trial_text"
   ]
  },
  {
   "cell_type": "code",
   "execution_count": 10,
   "id": "52e2584a",
   "metadata": {},
   "outputs": [
    {
     "name": "stderr",
     "output_type": "stream",
     "text": [
      "[nltk_data] Downloading package stopwords to\n",
      "[nltk_data]     C:\\Users\\devan\\AppData\\Roaming\\nltk_data...\n",
      "[nltk_data]   Package stopwords is already up-to-date!\n"
     ]
    },
    {
     "data": {
      "text/plain": [
       "True"
      ]
     },
     "execution_count": 10,
     "metadata": {},
     "output_type": "execute_result"
    }
   ],
   "source": [
    "import nltk\n",
    "nltk.download('stopwords')"
   ]
  },
  {
   "cell_type": "code",
   "execution_count": 11,
   "id": "313f27bd",
   "metadata": {},
   "outputs": [],
   "source": [
    "stopwords = nltk.corpus.stopwords.words('english')\n",
    "def remove_stopwords(text):\n",
    "  clean_text = []\n",
    "  for word in text:\n",
    "    if word not in stopwords:\n",
    "      clean_text.append(word)\n",
    "  return clean_text"
   ]
  },
  {
   "cell_type": "code",
   "execution_count": 12,
   "id": "4c2fe008",
   "metadata": {},
   "outputs": [
    {
     "data": {
      "text/plain": [
       "['hello', 'anyone', 'reading', 'wt', 'name', [], '']"
      ]
     },
     "execution_count": 12,
     "metadata": {},
     "output_type": "execute_result"
    }
   ],
   "source": [
    "remove_stopwords(trial_text)"
   ]
  },
  {
   "cell_type": "code",
   "execution_count": 13,
   "id": "c0c4d8ef",
   "metadata": {},
   "outputs": [],
   "source": [
    "def pos_tagging(text):\n",
    "  try:\n",
    "    tagged = nltk.pos_tag(text)\n",
    "    return tagged\n",
    "  except Excepton as e:\n",
    "    print(e)"
   ]
  },
  {
   "cell_type": "code",
   "execution_count": 14,
   "id": "e1e27f8f",
   "metadata": {},
   "outputs": [],
   "source": [
    "from nltk.corpus import wordnet\n",
    "def get_wordnet(pos_tag):\n",
    "  if pos_tag.startswith('J'):\n",
    "    return wordnet.ADJ\n",
    "  elif pos_tag.startswith('V'):\n",
    "    return wordnet.VERB\n",
    "  elif pos_tag.startswith('N'):\n",
    "    return wordnet.NOUN\n",
    "  elif pos_tag.startswith('R'):\n",
    "    return wordnet.ADV\n",
    "  else:\n",
    "    return wordnet.NOUN"
   ]
  },
  {
   "cell_type": "code",
   "execution_count": 15,
   "id": "6697b528",
   "metadata": {},
   "outputs": [],
   "source": [
    "from nltk.stem import WordNetLemmatizer\n",
    "def clean_text(text):\n",
    "  text = str(text)\n",
    "  #Converting text to lower-case\n",
    "  text = text.lower()\n",
    "  #tokenize and remove punctuations from the text\n",
    "  text = tokenize_remove_punctuation(text)\n",
    "  #remove words containing numericals\n",
    "  text = [word for word in text if not any(c.isdigit() for c in word)]\n",
    "  #remove stopwords\n",
    "  text = remove_stopwords(text)\n",
    "  #remove empty tokens\n",
    "  text = [ t for t in text if len(t) > 0]\n",
    "  #pos tagging\n",
    "  pos_tags = pos_tagging(text)\n",
    "  #Lemmatize text\n",
    "  text = [WordNetLemmatizer().lemmatize(t[0],get_wordnet(t[1])) for t in pos_tags]\n",
    "  #remove words with only one letter\n",
    "  text = [ t for t in text if len(t)>1]\n",
    "  #join all words\n",
    "  text = \" \".join(text)\n",
    "  return text"
   ]
  },
  {
   "cell_type": "code",
   "execution_count": 16,
   "id": "5c304b08",
   "metadata": {},
   "outputs": [
    {
     "name": "stderr",
     "output_type": "stream",
     "text": [
      "[nltk_data] Downloading package averaged_perceptron_tagger to\n",
      "[nltk_data]     C:\\Users\\devan\\AppData\\Roaming\\nltk_data...\n",
      "[nltk_data]   Package averaged_perceptron_tagger is already up-to-\n",
      "[nltk_data]       date!\n",
      "[nltk_data] Downloading package wordnet to\n",
      "[nltk_data]     C:\\Users\\devan\\AppData\\Roaming\\nltk_data...\n",
      "[nltk_data]   Package wordnet is already up-to-date!\n"
     ]
    },
    {
     "data": {
      "text/plain": [
       "True"
      ]
     },
     "execution_count": 16,
     "metadata": {},
     "output_type": "execute_result"
    }
   ],
   "source": [
    "nltk.download('averaged_perceptron_tagger')\n",
    "nltk.download('wordnet')"
   ]
  },
  {
   "cell_type": "code",
   "execution_count": 17,
   "id": "5059790d",
   "metadata": {},
   "outputs": [
    {
     "data": {
      "text/plain": [
       "'name cat'"
      ]
     },
     "execution_count": 17,
     "metadata": {},
     "output_type": "execute_result"
    }
   ],
   "source": [
    "clean_text(\"What is y0ur name? THis is a cat!! 12?\")"
   ]
  },
  {
   "cell_type": "code",
   "execution_count": 18,
   "id": "e38467bb",
   "metadata": {},
   "outputs": [
    {
     "name": "stdout",
     "output_type": "stream",
     "text": [
      "                                                 Comment label\n",
      "0      @switchfoot http://twitpic.com/2y1zl - Awww, t...     1\n",
      "1      is upset that he can't update his Facebook by ...     1\n",
      "2      @Kenichan I dived many times for the ball. Man...     1\n",
      "3         my whole body feels itchy and like its on fire     0\n",
      "4      @nationwideclass no, it's not behaving at all....     1\n",
      "...                                                  ...   ...\n",
      "96791  RT @Missy310588: Double drool! Colin and Manu ...     1\n",
      "96792  RT @lukeyook: If they think that dessert is re...     1\n",
      "96796  Girls claiming they're hot generally have an o...     1\n",
      "96798  RT @ur_so_vanilla: Nikki &amp; Katie, didn't y...     1\n",
      "96801                        RT @prprau: #MKR Tart. Lol.     1\n",
      "\n",
      "[86169 rows x 2 columns]\n"
     ]
    }
   ],
   "source": [
    "print(df)"
   ]
  },
  {
   "cell_type": "code",
   "execution_count": 19,
   "id": "8aa631fa",
   "metadata": {},
   "outputs": [],
   "source": [
    "# df['label'].value_counts(normalize=True).plot(kind='bar', title='Ratio of observations')"
   ]
  },
  {
   "cell_type": "code",
   "execution_count": 20,
   "id": "e6d9476f",
   "metadata": {},
   "outputs": [],
   "source": [
    "df['label']=df['label'].astype(str).astype(int)"
   ]
  },
  {
   "cell_type": "code",
   "execution_count": 21,
   "id": "4c64a47a",
   "metadata": {},
   "outputs": [
    {
     "name": "stdout",
     "output_type": "stream",
     "text": [
      "<class 'pandas.core.frame.DataFrame'>\n",
      "Int64Index: 86169 entries, 0 to 96801\n",
      "Data columns (total 2 columns):\n",
      " #   Column   Non-Null Count  Dtype \n",
      "---  ------   --------------  ----- \n",
      " 0   Comment  86169 non-null  object\n",
      " 1   label    86169 non-null  int32 \n",
      "dtypes: int32(1), object(1)\n",
      "memory usage: 1.6+ MB\n"
     ]
    }
   ],
   "source": [
    "df.info()"
   ]
  },
  {
   "cell_type": "code",
   "execution_count": 22,
   "id": "2bc33534",
   "metadata": {},
   "outputs": [
    {
     "data": {
      "text/plain": [
       "(86169, 2)"
      ]
     },
     "execution_count": 22,
     "metadata": {},
     "output_type": "execute_result"
    }
   ],
   "source": [
    "df.shape"
   ]
  },
  {
   "cell_type": "code",
   "execution_count": 23,
   "id": "14912c58",
   "metadata": {},
   "outputs": [],
   "source": [
    "df.reset_index(inplace = True, drop = True)"
   ]
  },
  {
   "cell_type": "code",
   "execution_count": 24,
   "id": "d8d9a282",
   "metadata": {},
   "outputs": [],
   "source": [
    "df['Processed_Comment'] = df['Comment'].map(clean_text)"
   ]
  },
  {
   "cell_type": "code",
   "execution_count": 25,
   "id": "a7f792ba",
   "metadata": {},
   "outputs": [],
   "source": [
    "from sklearn.model_selection import train_test_split\n",
    "X_train, X_test, y_train, y_test = train_test_split(df['Processed_Comment'], \n",
    "                                                    df['label'], \n",
    "                                                    random_state=42)\n"
   ]
  },
  {
   "cell_type": "code",
   "execution_count": 26,
   "id": "db345ab4",
   "metadata": {},
   "outputs": [],
   "source": [
    "from sklearn.feature_extraction.text import CountVectorizer, TfidfVectorizer\n",
    "count_vector = CountVectorizer(stop_words = 'english', lowercase = True)\n",
    "training_data = count_vector.fit_transform(X_train)\n",
    "testing_data = count_vector.transform(X_test)"
   ]
  },
  {
   "cell_type": "code",
   "execution_count": 27,
   "id": "80072a16",
   "metadata": {},
   "outputs": [
    {
     "data": {
      "text/plain": [
       "89918"
      ]
     },
     "execution_count": 27,
     "metadata": {},
     "output_type": "execute_result"
    }
   ],
   "source": [
    "len(count_vector.vocabulary_)"
   ]
  },
  {
   "cell_type": "code",
   "execution_count": 32,
   "id": "a3a646ef",
   "metadata": {},
   "outputs": [],
   "source": [
    "from sklearn.metrics import f1_score, accuracy_score, precision_score, recall_score\n",
    "from sklearn.metrics import confusion_matrix\n",
    "data =[]"
   ]
  },
  {
   "cell_type": "code",
   "execution_count": 33,
   "id": "a22d8635",
   "metadata": {},
   "outputs": [
    {
     "data": {
      "text/plain": [
       "KNeighborsClassifier()"
      ]
     },
     "execution_count": 33,
     "metadata": {},
     "output_type": "execute_result"
    }
   ],
   "source": [
    "from sklearn.neighbors import KNeighborsClassifier  \n",
    "model= KNeighborsClassifier(n_neighbors=5, metric='minkowski', p=2 )  \n",
    "model.fit(training_data, y_train)  "
   ]
  },
  {
   "cell_type": "code",
   "execution_count": 35,
   "id": "c695c890",
   "metadata": {
    "scrolled": true
   },
   "outputs": [],
   "source": [
    "predictions_test = model.predict(testing_data)\n",
    "predictions_train = model.predict(training_data)\n",
    "temp = ['KNeighborsClassifier']\n",
    "temp.append(accuracy_score(predictions_train,y_train))\n",
    "temp.append(recall_score(predictions_train,y_train))\n",
    "temp.append(f1_score(predictions_train,y_train))\n",
    "temp.append(precision_score(predictions_train,y_train))\n",
    "temp.append(accuracy_score(predictions_test,y_test))\n",
    "temp.append(recall_score(predictions_test,y_test))\n",
    "temp.append(f1_score(predictions_test,y_test))\n",
    "temp.append(precision_score(predictions_test,y_test))\n",
    "data.append(temp)"
   ]
  },
  {
   "cell_type": "code",
   "execution_count": 37,
   "id": "e2d51aaa",
   "metadata": {},
   "outputs": [
    {
     "name": "stdout",
     "output_type": "stream",
     "text": [
      "[[ 2563  2379]\n",
      " [ 3853 12748]]\n"
     ]
    }
   ],
   "source": [
    "confusion = confusion_matrix(predictions_test,y_test)\n",
    "print(confusion)"
   ]
  },
  {
   "cell_type": "code",
   "execution_count": 38,
   "id": "625a9486",
   "metadata": {},
   "outputs": [
    {
     "data": {
      "text/plain": [
       "LogisticRegression(C=100.0, max_iter=1000000, multi_class='ovr', random_state=1)"
      ]
     },
     "execution_count": 38,
     "metadata": {},
     "output_type": "execute_result"
    }
   ],
   "source": [
    "from sklearn.linear_model import LogisticRegression\n",
    "model1 = LogisticRegression(C=100.0, random_state=1, solver='lbfgs', multi_class='ovr',max_iter=1000000)\n",
    "model1.fit(training_data, y_train)"
   ]
  },
  {
   "cell_type": "code",
   "execution_count": 39,
   "id": "3ea56359",
   "metadata": {},
   "outputs": [],
   "source": [
    "predictions_test = model1.predict(testing_data)\n",
    "predictions_train = model1.predict(training_data)\n",
    "temp = ['LogisticRegression']\n",
    "temp.append(accuracy_score(predictions_train,y_train))\n",
    "temp.append(recall_score(predictions_train,y_train))\n",
    "temp.append(f1_score(predictions_train,y_train))\n",
    "temp.append(precision_score(predictions_train,y_train))\n",
    "temp.append(accuracy_score(predictions_test,y_test))\n",
    "temp.append(recall_score(predictions_test,y_test))\n",
    "temp.append(f1_score(predictions_test,y_test))\n",
    "temp.append(precision_score(predictions_test,y_test))\n",
    "data.append(temp)"
   ]
  },
  {
   "cell_type": "code",
   "execution_count": 40,
   "id": "b780e541",
   "metadata": {},
   "outputs": [
    {
     "name": "stdout",
     "output_type": "stream",
     "text": [
      "[[ 4158  1755]\n",
      " [ 2258 13372]]\n"
     ]
    }
   ],
   "source": [
    "confusion = confusion_matrix(predictions_test,y_test)\n",
    "print(confusion)"
   ]
  },
  {
   "cell_type": "code",
   "execution_count": 41,
   "id": "3c605543",
   "metadata": {},
   "outputs": [
    {
     "data": {
      "text/plain": [
       "MultinomialNB()"
      ]
     },
     "execution_count": 41,
     "metadata": {},
     "output_type": "execute_result"
    }
   ],
   "source": [
    "from sklearn.naive_bayes import MultinomialNB\n",
    "model2 = MultinomialNB()\n",
    "model2.fit(training_data, y_train)"
   ]
  },
  {
   "cell_type": "code",
   "execution_count": 42,
   "id": "198579a9",
   "metadata": {},
   "outputs": [],
   "source": [
    "predictions_test = model2.predict(testing_data)\n",
    "predictions_train = model2.predict(training_data)\n",
    "temp = ['MultinomialNB']\n",
    "temp.append(accuracy_score(predictions_train,y_train))\n",
    "temp.append(recall_score(predictions_train,y_train))\n",
    "temp.append(f1_score(predictions_train,y_train))\n",
    "temp.append(precision_score(predictions_train,y_train))\n",
    "temp.append(accuracy_score(predictions_test,y_test))\n",
    "temp.append(recall_score(predictions_test,y_test))\n",
    "temp.append(f1_score(predictions_test,y_test))\n",
    "temp.append(precision_score(predictions_test,y_test))\n",
    "data.append(temp)"
   ]
  },
  {
   "cell_type": "code",
   "execution_count": 57,
   "id": "8d190e57",
   "metadata": {},
   "outputs": [
    {
     "name": "stdout",
     "output_type": "stream",
     "text": [
      "[[ 4092  1074]\n",
      " [ 2324 14053]]\n"
     ]
    }
   ],
   "source": [
    "confusion = confusion_matrix(predictions_test,y_test)\n",
    "print(confusion)"
   ]
  },
  {
   "cell_type": "code",
   "execution_count": 54,
   "id": "7dd3f0c6",
   "metadata": {},
   "outputs": [
    {
     "data": {
      "text/plain": [
       "LinearSVC(max_iter=1000000, random_state=42)"
      ]
     },
     "execution_count": 54,
     "metadata": {},
     "output_type": "execute_result"
    }
   ],
   "source": [
    "from sklearn.svm import LinearSVC\n",
    "model3 = LinearSVC(max_iter=1000000,random_state=42)\n",
    "model3.fit(training_data, y_train)"
   ]
  },
  {
   "cell_type": "code",
   "execution_count": 59,
   "id": "93116850",
   "metadata": {},
   "outputs": [],
   "source": [
    "predictions_test = model3.predict(testing_data)\n",
    "predictions_train = model3.predict(training_data)\n",
    "temp = ['LinearSVC']\n",
    "temp.append(accuracy_score(predictions_train,y_train))\n",
    "temp.append(recall_score(predictions_train,y_train))\n",
    "temp.append(f1_score(predictions_train,y_train))\n",
    "temp.append(precision_score(predictions_train,y_train))\n",
    "temp.append(accuracy_score(predictions_test,y_test))\n",
    "temp.append(recall_score(predictions_test,y_test))\n",
    "temp.append(f1_score(predictions_test,y_test))\n",
    "temp.append(precision_score(predictions_test,y_test))\n",
    "data.append(temp)"
   ]
  },
  {
   "cell_type": "code",
   "execution_count": 60,
   "id": "f5494726",
   "metadata": {},
   "outputs": [
    {
     "name": "stdout",
     "output_type": "stream",
     "text": [
      "[[ 4092  1074]\n",
      " [ 2324 14053]]\n"
     ]
    }
   ],
   "source": [
    "confusion = confusion_matrix(predictions_test,y_test)\n",
    "print(confusion)"
   ]
  },
  {
   "cell_type": "code",
   "execution_count": 56,
   "id": "91a6d489",
   "metadata": {},
   "outputs": [],
   "source": [
    "result = pd.DataFrame(data, columns = ['Algorithm','Accuracy Score : Train', 'Recall Score : Train','F1-Score :Train','Precision Score :Train','Accuracy Score : Test', 'Recall Score : Test','F1-Score : Test','Precision Score : Test'])\n",
    "result.reset_index(drop=True, inplace=True)"
   ]
  },
  {
   "cell_type": "code",
   "execution_count": 48,
   "id": "3fcb83d0",
   "metadata": {},
   "outputs": [
    {
     "data": {
      "text/html": [
       "<div>\n",
       "<style scoped>\n",
       "    .dataframe tbody tr th:only-of-type {\n",
       "        vertical-align: middle;\n",
       "    }\n",
       "\n",
       "    .dataframe tbody tr th {\n",
       "        vertical-align: top;\n",
       "    }\n",
       "\n",
       "    .dataframe thead th {\n",
       "        text-align: right;\n",
       "    }\n",
       "</style>\n",
       "<table border=\"1\" class=\"dataframe\">\n",
       "  <thead>\n",
       "    <tr style=\"text-align: right;\">\n",
       "      <th></th>\n",
       "      <th>Algorithm</th>\n",
       "      <th>Accuracy Score : Train</th>\n",
       "      <th>Recall Score : Train</th>\n",
       "      <th>F1-Score :Train</th>\n",
       "      <th>Precision Score :Train</th>\n",
       "      <th>Accuracy Score : Test</th>\n",
       "      <th>Recall Score : Test</th>\n",
       "      <th>F1-Score : Test</th>\n",
       "      <th>Precision Score : Test</th>\n",
       "    </tr>\n",
       "  </thead>\n",
       "  <tbody>\n",
       "    <tr>\n",
       "      <th>0</th>\n",
       "      <td>KNeighborsClassifier</td>\n",
       "      <td>0.802123</td>\n",
       "      <td>0.825640</td>\n",
       "      <td>0.866891</td>\n",
       "      <td>0.912481</td>\n",
       "      <td>0.710718</td>\n",
       "      <td>0.767906</td>\n",
       "      <td>0.803580</td>\n",
       "      <td>0.842732</td>\n",
       "    </tr>\n",
       "    <tr>\n",
       "      <th>1</th>\n",
       "      <td>LogisticRegression</td>\n",
       "      <td>0.982592</td>\n",
       "      <td>0.981002</td>\n",
       "      <td>0.987759</td>\n",
       "      <td>0.994610</td>\n",
       "      <td>0.813721</td>\n",
       "      <td>0.855534</td>\n",
       "      <td>0.869526</td>\n",
       "      <td>0.883982</td>\n",
       "    </tr>\n",
       "    <tr>\n",
       "      <th>2</th>\n",
       "      <td>MultinomialNB</td>\n",
       "      <td>0.881982</td>\n",
       "      <td>0.888140</td>\n",
       "      <td>0.919375</td>\n",
       "      <td>0.952888</td>\n",
       "      <td>0.809080</td>\n",
       "      <td>0.839770</td>\n",
       "      <td>0.868741</td>\n",
       "      <td>0.899782</td>\n",
       "    </tr>\n",
       "    <tr>\n",
       "      <th>3</th>\n",
       "      <td>LinearSVC</td>\n",
       "      <td>0.971668</td>\n",
       "      <td>0.967632</td>\n",
       "      <td>0.980200</td>\n",
       "      <td>0.993098</td>\n",
       "      <td>0.842269</td>\n",
       "      <td>0.858094</td>\n",
       "      <td>0.892141</td>\n",
       "      <td>0.929001</td>\n",
       "    </tr>\n",
       "  </tbody>\n",
       "</table>\n",
       "</div>"
      ],
      "text/plain": [
       "              Algorithm  Accuracy Score : Train  Recall Score : Train  \\\n",
       "0  KNeighborsClassifier                0.802123              0.825640   \n",
       "1    LogisticRegression                0.982592              0.981002   \n",
       "2         MultinomialNB                0.881982              0.888140   \n",
       "3             LinearSVC                0.971668              0.967632   \n",
       "\n",
       "   F1-Score :Train  Precision Score :Train  Accuracy Score : Test  \\\n",
       "0         0.866891                0.912481               0.710718   \n",
       "1         0.987759                0.994610               0.813721   \n",
       "2         0.919375                0.952888               0.809080   \n",
       "3         0.980200                0.993098               0.842269   \n",
       "\n",
       "   Recall Score : Test  F1-Score : Test  Precision Score : Test  \n",
       "0             0.767906         0.803580                0.842732  \n",
       "1             0.855534         0.869526                0.883982  \n",
       "2             0.839770         0.868741                0.899782  \n",
       "3             0.858094         0.892141                0.929001  "
      ]
     },
     "execution_count": 48,
     "metadata": {},
     "output_type": "execute_result"
    }
   ],
   "source": [
    "result"
   ]
  },
  {
   "cell_type": "code",
   "execution_count": 64,
   "id": "3a007856",
   "metadata": {},
   "outputs": [],
   "source": [
    "# from sklearn.model_selection import cross_val_score\n",
    "# import numpy as np\n",
    "# C = [1,5,10,20]\n",
    "# avg_scores = {}\n",
    "# for cval in C:\n",
    "#     cv_scores = cross_val_score(LinearSVC(max_iter=1000000,random_state=42,C=cval),training_data, y_train,cv=5)\n",
    "#     avg_scores[cval]=np.average(cv_scores)"
   ]
  },
  {
   "cell_type": "code",
   "execution_count": 65,
   "id": "d89cac2a",
   "metadata": {},
   "outputs": [
    {
     "data": {
      "text/plain": [
       "{1: 0.842106880080063,\n",
       " 5: 0.8191439705438277,\n",
       " 10: 0.8062853972216792,\n",
       " 20: 0.7939838515387845}"
      ]
     },
     "execution_count": 65,
     "metadata": {},
     "output_type": "execute_result"
    }
   ],
   "source": [
    "# avg_scores"
   ]
  },
  {
   "cell_type": "code",
   "execution_count": 67,
   "id": "c847309e",
   "metadata": {},
   "outputs": [
    {
     "data": {
      "text/plain": [
       "{'mean_fit_time': array([11.23892646, 22.11288357, 36.38446875, 55.95798101]),\n",
       " 'std_fit_time': array([2.96494067, 2.50561373, 7.52030188, 9.40547915]),\n",
       " 'mean_score_time': array([0.0024013 , 0.0028028 , 0.00320153, 0.00300102]),\n",
       " 'std_score_time': array([4.88461856e-04, 4.00574501e-04, 7.48570880e-04, 1.43368686e-06]),\n",
       " 'param_C': masked_array(data=[1, 5, 10, 20],\n",
       "              mask=[False, False, False, False],\n",
       "        fill_value='?',\n",
       "             dtype=object),\n",
       " 'params': [{'C': 1}, {'C': 5}, {'C': 10}, {'C': 20}],\n",
       " 'split0_test_score': array([0.84287483, 0.82090361, 0.80620455, 0.79359431]),\n",
       " 'split1_test_score': array([0.84294004, 0.8215087 , 0.80812379, 0.79644101]),\n",
       " 'split2_test_score': array([0.84108317, 0.81524178, 0.8045648 , 0.79226306]),\n",
       " 'split3_test_score': array([0.84162476, 0.82034816, 0.81029014, 0.79659574]),\n",
       " 'split4_test_score': array([0.84201161, 0.8177176 , 0.80224371, 0.79102515]),\n",
       " 'mean_test_score': array([0.84210688, 0.81914397, 0.8062854 , 0.79398385]),\n",
       " 'std_test_score': array([0.00071741, 0.00234094, 0.0027828 , 0.0022238 ]),\n",
       " 'rank_test_score': array([1, 2, 3, 4])}"
      ]
     },
     "execution_count": 67,
     "metadata": {},
     "output_type": "execute_result"
    }
   ],
   "source": [
    "# from sklearn.model_selection import GridSearchCV\n",
    "# clf = GridSearchCV(LinearSVC(max_iter=1000000,random_state=42),{\n",
    "#     'C' : [1,5,10,20]\n",
    "# },cv=5,return_train_score=False)\n",
    "# clf.fit(training_data, y_train)\n",
    "# clf.cv_results_"
   ]
  },
  {
   "cell_type": "code",
   "execution_count": 68,
   "id": "bbaf2ec7",
   "metadata": {},
   "outputs": [],
   "source": [
    "# df2 = pd.DataFrame(clf.cv_results_)"
   ]
  },
  {
   "cell_type": "code",
   "execution_count": 70,
   "id": "b0ae391c",
   "metadata": {},
   "outputs": [
    {
     "data": {
      "text/html": [
       "<div>\n",
       "<style scoped>\n",
       "    .dataframe tbody tr th:only-of-type {\n",
       "        vertical-align: middle;\n",
       "    }\n",
       "\n",
       "    .dataframe tbody tr th {\n",
       "        vertical-align: top;\n",
       "    }\n",
       "\n",
       "    .dataframe thead th {\n",
       "        text-align: right;\n",
       "    }\n",
       "</style>\n",
       "<table border=\"1\" class=\"dataframe\">\n",
       "  <thead>\n",
       "    <tr style=\"text-align: right;\">\n",
       "      <th></th>\n",
       "      <th>param_C</th>\n",
       "      <th>mean_test_score</th>\n",
       "    </tr>\n",
       "  </thead>\n",
       "  <tbody>\n",
       "    <tr>\n",
       "      <th>0</th>\n",
       "      <td>1</td>\n",
       "      <td>0.842107</td>\n",
       "    </tr>\n",
       "    <tr>\n",
       "      <th>1</th>\n",
       "      <td>5</td>\n",
       "      <td>0.819144</td>\n",
       "    </tr>\n",
       "    <tr>\n",
       "      <th>2</th>\n",
       "      <td>10</td>\n",
       "      <td>0.806285</td>\n",
       "    </tr>\n",
       "    <tr>\n",
       "      <th>3</th>\n",
       "      <td>20</td>\n",
       "      <td>0.793984</td>\n",
       "    </tr>\n",
       "  </tbody>\n",
       "</table>\n",
       "</div>"
      ],
      "text/plain": [
       "  param_C  mean_test_score\n",
       "0       1         0.842107\n",
       "1       5         0.819144\n",
       "2      10         0.806285\n",
       "3      20         0.793984"
      ]
     },
     "execution_count": 70,
     "metadata": {},
     "output_type": "execute_result"
    }
   ],
   "source": [
    "# df2[['param_C','mean_test_score']]"
   ]
  },
  {
   "cell_type": "code",
   "execution_count": 71,
   "id": "aaf72ccb",
   "metadata": {},
   "outputs": [
    {
     "data": {
      "text/plain": [
       "0.842106880080063"
      ]
     },
     "execution_count": 71,
     "metadata": {},
     "output_type": "execute_result"
    }
   ],
   "source": [
    "# clf.best_score_"
   ]
  },
  {
   "cell_type": "code",
   "execution_count": 72,
   "id": "dda61366",
   "metadata": {},
   "outputs": [
    {
     "data": {
      "text/plain": [
       "{'C': 1}"
      ]
     },
     "execution_count": 72,
     "metadata": {},
     "output_type": "execute_result"
    }
   ],
   "source": [
    "# clf.best_params_"
   ]
  },
  {
   "cell_type": "code",
   "execution_count": null,
   "id": "82485f58",
   "metadata": {},
   "outputs": [],
   "source": [
    "# from sklearn.model_selection import RandomizedSearchCV\n",
    "# rs = RandomizedSearchCV(LinearSVC(max_iter=1000000,random_state=42),{\n",
    "#     'C' : [1,5,10,20]\n",
    "# },cv=5,return_train_score=False,n_iter=2)\n",
    "# rs.fit(training_data, y_train)\n",
    "# df3 = pd.DataFrame(rs.cv_results_)[['param_C','mean_test_scores']]"
   ]
  },
  {
   "cell_type": "code",
   "execution_count": 75,
   "id": "cd71dd3f",
   "metadata": {},
   "outputs": [],
   "source": [
    "model_params = {\n",
    "    'LinearSVC': {\n",
    "        'model': LinearSVC(max_iter=1000000,random_state=42),\n",
    "        'params' : {\n",
    "            'C': [0.1,1,5,10,20],\n",
    "        }  \n",
    "    },\n",
    "    'MultinomialNB': {\n",
    "        'model': MultinomialNB(),\n",
    "        'params' : {\n",
    "            'alpha': np.linspace(0.5, 1.5, 6),\n",
    "            'fit_prior': [True, False],\n",
    "        }\n",
    "    },\n",
    "    'logistic_regression' : {\n",
    "        'model': LogisticRegression(random_state=1, multi_class='ovr',max_iter=1000000),\n",
    "        'params': {\n",
    "            'C': [1,5,10],\n",
    "            'solver': ['newton-cg', 'lbfgs', 'liblinear'],\n",
    "        }\n",
    "    },\n",
    "    'KNeighborsClassifier': {\n",
    "        'model': KNeighborsClassifier(p=2 ),\n",
    "        'params' : {\n",
    "            'n_neighbors': [5,9,11,23],\n",
    "              'weights' : ['uniform', 'distance'],\n",
    "              'metric' : ['euclidean', 'manhattan', 'minkowski'],\n",
    "        }\n",
    "    }\n",
    "}"
   ]
  },
  {
   "cell_type": "code",
   "execution_count": 76,
   "id": "0f083420",
   "metadata": {},
   "outputs": [
    {
     "data": {
      "text/html": [
       "<div>\n",
       "<style scoped>\n",
       "    .dataframe tbody tr th:only-of-type {\n",
       "        vertical-align: middle;\n",
       "    }\n",
       "\n",
       "    .dataframe tbody tr th {\n",
       "        vertical-align: top;\n",
       "    }\n",
       "\n",
       "    .dataframe thead th {\n",
       "        text-align: right;\n",
       "    }\n",
       "</style>\n",
       "<table border=\"1\" class=\"dataframe\">\n",
       "  <thead>\n",
       "    <tr style=\"text-align: right;\">\n",
       "      <th></th>\n",
       "      <th>model</th>\n",
       "      <th>best_score</th>\n",
       "      <th>best_params</th>\n",
       "    </tr>\n",
       "  </thead>\n",
       "  <tbody>\n",
       "    <tr>\n",
       "      <th>0</th>\n",
       "      <td>LinearSVC</td>\n",
       "      <td>0.843221</td>\n",
       "      <td>{'C': 0.1}</td>\n",
       "    </tr>\n",
       "    <tr>\n",
       "      <th>1</th>\n",
       "      <td>MultinomialNB</td>\n",
       "      <td>0.809504</td>\n",
       "      <td>{'alpha': 1.3, 'fit_prior': True}</td>\n",
       "    </tr>\n",
       "    <tr>\n",
       "      <th>2</th>\n",
       "      <td>logistic_regression</td>\n",
       "      <td>0.843500</td>\n",
       "      <td>{'C': 5, 'solver': 'newton-cg'}</td>\n",
       "    </tr>\n",
       "    <tr>\n",
       "      <th>3</th>\n",
       "      <td>KNeighborsClassifier</td>\n",
       "      <td>0.703525</td>\n",
       "      <td>{'metric': 'euclidean', 'n_neighbors': 5, 'wei...</td>\n",
       "    </tr>\n",
       "  </tbody>\n",
       "</table>\n",
       "</div>"
      ],
      "text/plain": [
       "                  model  best_score  \\\n",
       "0             LinearSVC    0.843221   \n",
       "1         MultinomialNB    0.809504   \n",
       "2   logistic_regression    0.843500   \n",
       "3  KNeighborsClassifier    0.703525   \n",
       "\n",
       "                                         best_params  \n",
       "0                                         {'C': 0.1}  \n",
       "1                  {'alpha': 1.3, 'fit_prior': True}  \n",
       "2                    {'C': 5, 'solver': 'newton-cg'}  \n",
       "3  {'metric': 'euclidean', 'n_neighbors': 5, 'wei...  "
      ]
     },
     "execution_count": 76,
     "metadata": {},
     "output_type": "execute_result"
    }
   ],
   "source": [
    "scores = []\n",
    "\n",
    "for model_name, mp in model_params.items():\n",
    "    clf =  GridSearchCV(mp['model'], mp['params'], cv=5, return_train_score=False)\n",
    "    clf.fit(training_data, y_train)\n",
    "    scores.append({\n",
    "        'model': model_name,\n",
    "        'best_score': clf.best_score_,\n",
    "        'best_params': clf.best_params_\n",
    "    })\n",
    "    \n",
    "df4 = pd.DataFrame(scores,columns=['model','best_score','best_params'])\n",
    "df4"
   ]
  },
  {
   "cell_type": "code",
   "execution_count": 77,
   "id": "bcc4452e",
   "metadata": {},
   "outputs": [
    {
     "data": {
      "text/plain": [
       "{'metric': 'euclidean', 'n_neighbors': 5, 'weights': 'distance'}"
      ]
     },
     "execution_count": 77,
     "metadata": {},
     "output_type": "execute_result"
    }
   ],
   "source": [
    "df4.at[3,'best_params']"
   ]
  },
  {
   "cell_type": "code",
   "execution_count": null,
   "id": "f61e5c0f",
   "metadata": {},
   "outputs": [],
   "source": []
  }
 ],
 "metadata": {
  "kernelspec": {
   "display_name": "Python 3",
   "language": "python",
   "name": "python3"
  },
  "language_info": {
   "codemirror_mode": {
    "name": "ipython",
    "version": 3
   },
   "file_extension": ".py",
   "mimetype": "text/x-python",
   "name": "python",
   "nbconvert_exporter": "python",
   "pygments_lexer": "ipython3",
   "version": "3.8.8"
  }
 },
 "nbformat": 4,
 "nbformat_minor": 5
}
